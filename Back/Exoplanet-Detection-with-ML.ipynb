{
 "cells": [
  {
   "cell_type": "code",
   "execution_count": 1,
   "id": "ce5b7d2b-32dd-4f6c-b02b-0de4c5375fe2",
   "metadata": {
    "scrolled": true
   },
   "outputs": [
    {
     "name": "stdout",
     "output_type": "stream",
     "text": [
      "Requirement already satisfied: uv in /mnt/raid/.venvs/jupyter/lib/python3.11/site-packages (0.8.22)\n",
      "\u001b[2mUsing Python 3.11.2 environment at: /mnt/raid/.venvs/jupyter\u001b[0m\n",
      "\u001b[2mAudited \u001b[1m1 package\u001b[0m \u001b[2min 20ms\u001b[0m\u001b[0m\n"
     ]
    }
   ],
   "source": [
    "!pip install uv\n",
    "!uv pip install 'autogluon.tabular[mitra]'"
   ]
  },
  {
   "cell_type": "code",
   "execution_count": 2,
   "id": "52f7621f-4bac-4793-ac4f-d08d753cfb79",
   "metadata": {
    "scrolled": true
   },
   "outputs": [
    {
     "name": "stdout",
     "output_type": "stream",
     "text": [
      "\u001b[2mUsing Python 3.11.2 environment at: /mnt/raid/.venvs/jupyter\u001b[0m\n",
      "\u001b[2mAudited \u001b[1m3 packages\u001b[0m \u001b[2min 10ms\u001b[0m\u001b[0m\n"
     ]
    }
   ],
   "source": [
    "!uv pip install torch torchvision torchaudio --index-url https://download.pytorch.org/whl/cu121"
   ]
  },
  {
   "cell_type": "code",
   "execution_count": 3,
   "id": "11cb5c82-3fe5-4c9e-84a4-092339cef294",
   "metadata": {},
   "outputs": [],
   "source": [
    "import pandas as pd\n",
    "import numpy as np\n",
    "from autogluon.tabular import TabularDataset, TabularPredictor\n",
    "from sklearn.model_selection import train_test_split\n",
    "from sklearn.datasets import load_wine\n",
    "import torch\n",
    "from sklearn.metrics import (\n",
    "    accuracy_score, classification_report,\n",
    "    confusion_matrix, average_precision_score,\n",
    "    precision_recall_curve, roc_auc_score\n",
    ")\n",
    "import matplotlib.pyplot as plt"
   ]
  },
  {
   "cell_type": "code",
   "execution_count": 4,
   "id": "24d8030e-7020-4f5e-905a-7789cc426881",
   "metadata": {},
   "outputs": [
    {
     "name": "stdout",
     "output_type": "stream",
     "text": [
      "(9564, 83)\n"
     ]
    }
   ],
   "source": [
    "data = '../Data/1_cumulative_2025.csv'\n",
    "df = pd.read_csv(data)\n",
    "\n",
    "print(df.shape)"
   ]
  },
  {
   "cell_type": "code",
   "execution_count": 5,
   "id": "201d1963-8ba4-4355-b737-47c3b69e6c53",
   "metadata": {},
   "outputs": [],
   "source": [
    "df['target'] = (df['koi_disposition'] == 'CONFIRMED').astype(int)\n",
    "df = df.dropna(subset=['target'])"
   ]
  },
  {
   "cell_type": "code",
   "execution_count": 6,
   "id": "e9802d4c-70a4-4f92-aff8-70f519e489c8",
   "metadata": {},
   "outputs": [
    {
     "name": "stdout",
     "output_type": "stream",
     "text": [
      "(9564, 84)\n",
      "Features disponibles: ['rowid', 'kepid', 'kepoi_name', 'kepler_name', 'koi_disposition', 'koi_vet_stat', 'koi_vet_date', 'koi_pdisposition', 'koi_score', 'koi_fpflag_nt', 'koi_fpflag_ss', 'koi_fpflag_co', 'koi_fpflag_ec', 'koi_disp_prov', 'koi_comment', 'koi_period', 'koi_time0bk', 'koi_time0', 'koi_eccen', 'koi_longp', 'koi_impact', 'koi_duration', 'koi_ingress', 'koi_depth', 'koi_ror', 'koi_srho', 'koi_fittype', 'koi_prad', 'koi_sma', 'koi_incl', 'koi_teq', 'koi_insol', 'koi_dor', 'koi_limbdark_mod', 'koi_ldm_coeff4', 'koi_ldm_coeff3', 'koi_ldm_coeff2', 'koi_ldm_coeff1', 'koi_parm_prov', 'koi_max_sngle_ev', 'koi_max_mult_ev', 'koi_model_snr', 'koi_count', 'koi_num_transits', 'koi_tce_plnt_num', 'koi_tce_delivname', 'koi_quarters', 'koi_bin_oedp_sig', 'koi_trans_mod', 'koi_model_dof', 'koi_model_chisq', 'koi_datalink_dvr', 'koi_datalink_dvs', 'koi_steff', 'koi_slogg', 'koi_smet', 'koi_srad', 'koi_smass', 'koi_sage', 'koi_sparprov', 'ra', 'dec', 'koi_kepmag', 'koi_gmag', 'koi_rmag', 'koi_imag', 'koi_zmag', 'koi_jmag', 'koi_hmag', 'koi_kmag', 'koi_fwm_stat_sig', 'koi_fwm_sra', 'koi_fwm_sdec', 'koi_fwm_srao', 'koi_fwm_sdeco', 'koi_fwm_prao', 'koi_fwm_pdeco', 'koi_dicco_mra', 'koi_dicco_mdec', 'koi_dicco_msky', 'koi_dikco_mra', 'koi_dikco_mdec', 'koi_dikco_msky', 'target']\n"
     ]
    }
   ],
   "source": [
    "print(df.shape)\n",
    "print(\"Features disponibles:\", df.columns.tolist())\n"
   ]
  },
  {
   "cell_type": "code",
   "execution_count": 7,
   "id": "c41e303d-7ded-4f91-8be7-5d5b1675e360",
   "metadata": {},
   "outputs": [],
   "source": [
    "drop_cols = [\n",
    "    # 100% NaN\n",
    "    'koi_longp', 'koi_model_chisq', 'koi_model_dof', 'koi_ingress', 'koi_sage',\n",
    "    \n",
    "    # IDs / nombres únicos / paths (no útiles como features)\n",
    "    'rowid', 'kepoi_name', \n",
    "    \n",
    "    # nombre oficial -> leakage (presente mayormente para confirmed)\n",
    "    'kepler_name',\n",
    "    \n",
    "    # vetado / metadatos constantes o que filtran la etiqueta\n",
    "    'koi_vet_stat', 'koi_vet_date', 'koi_disp_prov', 'koi_parm_prov',\n",
    "    \n",
    "    # delivery / report paths (cada fila distinto)\n",
    "    'koi_tce_delivname', 'koi_datalink_dvr', 'koi_datalink_dvs',\n",
    "    \n",
    "    # columnas constantes según tu inspección (no aportan)\n",
    "    'koi_limbdark_mod', 'koi_trans_mod', 'koi_ldm_coeff3', 'koi_ldm_coeff4',\n",
    "    \n",
    "    # CRÍTICO: Agregar estas\n",
    "    'koi_disposition',      # target original\n",
    "    'koi_pdisposition',     # disposición planetaria (LEAKAGE!)\n",
    "    'koi_score',           # score de clasificación (posible LEAKAGE)\n",
    "    'koi_comment',         # comentarios (posible LEAKAGE)\n",
    "\n",
    "    # FLAGS DE VETTING (posible leakage indirecto)\n",
    "    'koi_fpflag_nt',   # Flag: not transit-like\n",
    "    'koi_fpflag_ss',   # Flag: stellar eclipse\n",
    "    'koi_fpflag_co',   # Flag: centroid offset\n",
    "    'koi_fpflag_ec',   # Flag: ephemeris match\n",
    "    \n",
    "    # MÉTRICAS DERIVADAS DEL VETTING\n",
    "    'koi_max_mult_ev', # Eventos múltiples (calculado post-análisis)\n",
    "    'koi_dicco_msky',  # Diferencia en centroide\n",
    "    'koi_dikco_msky',  # Similar a dicco\n",
    "    \n",
    "    # OTROS SOSPECHOSOS\n",
    "    'koi_bin_oedp_sig', # Significancia de odd-even depth (post-análisis)\n",
    "\n",
    "    'koi_model_snr', # puede que no sea valido\n",
    "]\n",
    "\n",
    "drop_exist = [c for c in drop_cols]\n",
    "df = df.drop(columns=drop_exist)"
   ]
  },
  {
   "cell_type": "code",
   "execution_count": 8,
   "id": "5bfdbd56-0260-47a5-9e01-3d8cb22b1149",
   "metadata": {},
   "outputs": [
    {
     "name": "stdout",
     "output_type": "stream",
     "text": [
      "(9564, 52)\n",
      "Features disponibles: ['kepid', 'koi_period', 'koi_time0bk', 'koi_time0', 'koi_eccen', 'koi_impact', 'koi_duration', 'koi_depth', 'koi_ror', 'koi_srho', 'koi_fittype', 'koi_prad', 'koi_sma', 'koi_incl', 'koi_teq', 'koi_insol', 'koi_dor', 'koi_ldm_coeff2', 'koi_ldm_coeff1', 'koi_max_sngle_ev', 'koi_count', 'koi_num_transits', 'koi_tce_plnt_num', 'koi_quarters', 'koi_steff', 'koi_slogg', 'koi_smet', 'koi_srad', 'koi_smass', 'koi_sparprov', 'ra', 'dec', 'koi_kepmag', 'koi_gmag', 'koi_rmag', 'koi_imag', 'koi_zmag', 'koi_jmag', 'koi_hmag', 'koi_kmag', 'koi_fwm_stat_sig', 'koi_fwm_sra', 'koi_fwm_sdec', 'koi_fwm_srao', 'koi_fwm_sdeco', 'koi_fwm_prao', 'koi_fwm_pdeco', 'koi_dicco_mra', 'koi_dicco_mdec', 'koi_dikco_mra', 'koi_dikco_mdec', 'target']\n"
     ]
    }
   ],
   "source": [
    "print(df.shape)\n",
    "print(\"Features disponibles:\", df.columns.tolist())"
   ]
  },
  {
   "cell_type": "code",
   "execution_count": 9,
   "id": "3d5ad4ee-2b1d-46ee-837b-f06e1bc4477e",
   "metadata": {},
   "outputs": [
    {
     "name": "stderr",
     "output_type": "stream",
     "text": [
      "/mnt/raid/.venvs/jupyter/lib/python3.11/site-packages/pandas/core/arraylike.py:399: RuntimeWarning: divide by zero encountered in log10\n",
      "  result = getattr(ufunc, method)(*inputs, **kwargs)\n"
     ]
    }
   ],
   "source": [
    "\n",
    "# 2. Densidad estelar vs período (ley de Kepler)\n",
    "df['kepler_ratio'] = df['koi_srho'] * (df['koi_period'] ** 2)\n",
    "\n",
    "# 3. Temperatura de equilibrio vs temperatura estelar\n",
    "df['temp_ratio'] = df['koi_teq'] / df['koi_steff']\n",
    "\n",
    "# 4. Duración esperada vs observada\n",
    "expected_duration = 13 * df['koi_srad'] * (df['koi_period'] / 365.25) ** (1/3)\n",
    "df['duration_anomaly'] = (df['koi_duration'] - expected_duration).abs()\n",
    "\n",
    "# 5. Marca tránsitos ultra-profundos\n",
    "df['ultra_deep'] = (df['koi_depth'] > 5000).astype(int)\n",
    "\n",
    "df['log_period'] = np.log10(df['koi_period'])\n",
    "df['log_depth'] = np.log10(df['koi_depth'])\n",
    "df['log_prad'] = np.log10(df['koi_prad'])\n",
    "df['log_teq'] = np.log10(df['koi_teq'])\n",
    "\n",
    "# Clasificar por tipo de órbita\n",
    "def classify_period(p):\n",
    "    if p < 1:\n",
    "        return 'ultra_short'  # Júpiter caliente extremo\n",
    "    elif p < 10:\n",
    "        return 'short'        # Júpiter caliente\n",
    "    elif p < 100:\n",
    "        return 'medium'       # Similar a Venus/Mercurio\n",
    "    else:\n",
    "        return 'long'         # Similar a Tierra o más\n",
    "\n",
    "df['period_class'] = df['koi_period'].apply(classify_period)"
   ]
  },
  {
   "cell_type": "code",
   "execution_count": 10,
   "id": "523eba71-100f-4a65-97b1-d1ab2053affb",
   "metadata": {},
   "outputs": [
    {
     "name": "stdout",
     "output_type": "stream",
     "text": [
      "(9564, 61)\n",
      "Features disponibles: ['kepid', 'koi_period', 'koi_time0bk', 'koi_time0', 'koi_eccen', 'koi_impact', 'koi_duration', 'koi_depth', 'koi_ror', 'koi_srho', 'koi_fittype', 'koi_prad', 'koi_sma', 'koi_incl', 'koi_teq', 'koi_insol', 'koi_dor', 'koi_ldm_coeff2', 'koi_ldm_coeff1', 'koi_max_sngle_ev', 'koi_count', 'koi_num_transits', 'koi_tce_plnt_num', 'koi_quarters', 'koi_steff', 'koi_slogg', 'koi_smet', 'koi_srad', 'koi_smass', 'koi_sparprov', 'ra', 'dec', 'koi_kepmag', 'koi_gmag', 'koi_rmag', 'koi_imag', 'koi_zmag', 'koi_jmag', 'koi_hmag', 'koi_kmag', 'koi_fwm_stat_sig', 'koi_fwm_sra', 'koi_fwm_sdec', 'koi_fwm_srao', 'koi_fwm_sdeco', 'koi_fwm_prao', 'koi_fwm_pdeco', 'koi_dicco_mra', 'koi_dicco_mdec', 'koi_dikco_mra', 'koi_dikco_mdec', 'target', 'kepler_ratio', 'temp_ratio', 'duration_anomaly', 'ultra_deep', 'log_period', 'log_depth', 'log_prad', 'log_teq', 'period_class']\n"
     ]
    }
   ],
   "source": [
    "print(df.shape)\n",
    "print(\"Features disponibles:\", df.columns.tolist())"
   ]
  },
  {
   "cell_type": "code",
   "execution_count": 11,
   "id": "cb3d9d3f-de0f-435d-81fb-66a614742dae",
   "metadata": {},
   "outputs": [
    {
     "name": "stdout",
     "output_type": "stream",
     "text": [
      "Shape con features nuevas: (9564, 64)\n"
     ]
    }
   ],
   "source": [
    "# ANTES del train_test_split, agregar features derivadas\n",
    "import numpy as np\n",
    "\n",
    "# 2. Duración relativa del tránsito\n",
    "df['transit_ratio'] = df['koi_duration'] / (df['koi_period'] * 24)  # en horas\n",
    "\n",
    "# 3. Temperatura vs período (ley de Kepler simplificada)\n",
    "df['temp_period_ratio'] = df['koi_steff'] / np.sqrt(df['koi_period'])\n",
    "\n",
    "# 4. Impacto del tránsito (centralidad)\n",
    "df['impact_squared'] = df['koi_impact'] ** 2\n",
    "\n",
    "print(f\"Shape con features nuevas: {df.shape}\")"
   ]
  },
  {
   "cell_type": "code",
   "execution_count": 12,
   "id": "1a78bf7f-840d-4ef9-8cc2-aca0731dd043",
   "metadata": {},
   "outputs": [],
   "source": [
    "train, test = train_test_split(df, test_size=0.3, random_state=42, stratify=df['target'])\n",
    "train_data = TabularDataset(train)\n",
    "test_data = TabularDataset(test)"
   ]
  },
  {
   "cell_type": "code",
   "execution_count": 13,
   "id": "7d7e41fc-0b16-40d4-a37a-0f899b686b41",
   "metadata": {},
   "outputs": [
    {
     "data": {
      "text/html": [],
      "text/plain": [
       "<IPython.core.display.HTML object>"
      ]
     },
     "metadata": {},
     "output_type": "display_data"
    },
    {
     "name": "stderr",
     "output_type": "stream",
     "text": [
      "2025-10-01 02:05:23,538\tINFO timeout.py:54 -- Reached timeout of 1.9679526090621948 seconds. Stopping all trials.\n",
      "2025-10-01 02:05:23,547\tINFO tune.py:1009 -- Wrote the latest version of all result files and experiment state to '/mnt/raid/Documents/Other/NASA/NASA-Hackathon/Back/AutogluonModels/ag-20251001_080318/models/NeuralNetTorch_nn_BAG_L2' in 0.0040s.\n",
      "2025-10-01 02:05:27,364\tWARNING experiment_analysis.py:180 -- Failed to fetch metrics for 5 trial(s):\n",
      "- 6072b_00000: FileNotFoundError('Could not fetch metrics for 6072b_00000: both result.json and progress.csv were not found at /mnt/raid/Documents/Other/NASA/NASA-Hackathon/Back/AutogluonModels/ag-20251001_080318/models/NeuralNetTorch_nn_BAG_L2/6072b_00000')\n",
      "- 6072b_00001: FileNotFoundError('Could not fetch metrics for 6072b_00001: both result.json and progress.csv were not found at /mnt/raid/Documents/Other/NASA/NASA-Hackathon/Back/AutogluonModels/ag-20251001_080318/models/NeuralNetTorch_nn_BAG_L2/6072b_00001')\n",
      "- 6072b_00002: FileNotFoundError('Could not fetch metrics for 6072b_00002: both result.json and progress.csv were not found at /mnt/raid/Documents/Other/NASA/NASA-Hackathon/Back/AutogluonModels/ag-20251001_080318/models/NeuralNetTorch_nn_BAG_L2/6072b_00002')\n",
      "- 6072b_00003: FileNotFoundError('Could not fetch metrics for 6072b_00003: both result.json and progress.csv were not found at /mnt/raid/Documents/Other/NASA/NASA-Hackathon/Back/AutogluonModels/ag-20251001_080318/models/NeuralNetTorch_nn_BAG_L2/6072b_00003')\n",
      "- 6072b_00004: FileNotFoundError('Could not fetch metrics for 6072b_00004: both result.json and progress.csv were not found at /mnt/raid/Documents/Other/NASA/NASA-Hackathon/Back/AutogluonModels/ag-20251001_080318/models/NeuralNetTorch_nn_BAG_L2/6072b_00004')\n",
      "No model was trained during hyperparameter tuning NeuralNetTorch_nn_BAG_L2... Skipping this model.\n",
      "Fitting model: WeightedEnsemble_L3 ... Training model for up to 79.77s of the -8.56s of remaining time.\n",
      "\tEnsemble Weights: {'LightGBM_XT_BAG_L1/T1': 0.929, 'LightGBM_Large_BAG_L1/T1': 0.071}\n",
      "\t0.979\t = Validation score   (roc_auc)\n",
      "\t0.11s\t = Training   runtime\n",
      "\t0.0s\t = Validation runtime\n",
      "AutoGluon training complete, total runtime = 88.73s ... Best model: WeightedEnsemble_L2 | Estimated inference throughput: 2926.7 rows/s (837 batch size)\n",
      "TabularPredictor saved. To load, use: predictor = TabularPredictor.load(\"/mnt/raid/Documents/Other/NASA/NASA-Hackathon/Back/AutogluonModels/ag-20251001_080318\")\n"
     ]
    },
    {
     "name": "stdout",
     "output_type": "stream",
     "text": [
      "\n",
      "Model Leaderboard:\n"
     ]
    },
    {
     "data": {
      "text/html": [
       "<div>\n",
       "<style scoped>\n",
       "    .dataframe tbody tr th:only-of-type {\n",
       "        vertical-align: middle;\n",
       "    }\n",
       "\n",
       "    .dataframe tbody tr th {\n",
       "        vertical-align: top;\n",
       "    }\n",
       "\n",
       "    .dataframe thead th {\n",
       "        text-align: right;\n",
       "    }\n",
       "</style>\n",
       "<table border=\"1\" class=\"dataframe\">\n",
       "  <thead>\n",
       "    <tr style=\"text-align: right;\">\n",
       "      <th></th>\n",
       "      <th>model</th>\n",
       "      <th>score_test</th>\n",
       "      <th>score_val</th>\n",
       "      <th>eval_metric</th>\n",
       "      <th>pred_time_test</th>\n",
       "      <th>pred_time_val</th>\n",
       "      <th>fit_time</th>\n",
       "      <th>pred_time_test_marginal</th>\n",
       "      <th>pred_time_val_marginal</th>\n",
       "      <th>fit_time_marginal</th>\n",
       "      <th>stack_level</th>\n",
       "      <th>can_infer</th>\n",
       "      <th>fit_order</th>\n",
       "    </tr>\n",
       "  </thead>\n",
       "  <tbody>\n",
       "    <tr>\n",
       "      <th>0</th>\n",
       "      <td>WeightedEnsemble_L3</td>\n",
       "      <td>0.982712</td>\n",
       "      <td>0.979020</td>\n",
       "      <td>roc_auc</td>\n",
       "      <td>0.266915</td>\n",
       "      <td>0.286836</td>\n",
       "      <td>17.399515</td>\n",
       "      <td>0.001457</td>\n",
       "      <td>0.000989</td>\n",
       "      <td>0.109575</td>\n",
       "      <td>3</td>\n",
       "      <td>True</td>\n",
       "      <td>8</td>\n",
       "    </tr>\n",
       "    <tr>\n",
       "      <th>1</th>\n",
       "      <td>WeightedEnsemble_L2</td>\n",
       "      <td>0.982712</td>\n",
       "      <td>0.979020</td>\n",
       "      <td>roc_auc</td>\n",
       "      <td>0.267017</td>\n",
       "      <td>0.286977</td>\n",
       "      <td>17.382099</td>\n",
       "      <td>0.001559</td>\n",
       "      <td>0.001129</td>\n",
       "      <td>0.092159</td>\n",
       "      <td>2</td>\n",
       "      <td>True</td>\n",
       "      <td>5</td>\n",
       "    </tr>\n",
       "    <tr>\n",
       "      <th>2</th>\n",
       "      <td>LightGBM_XT_BAG_L1/T1</td>\n",
       "      <td>0.982632</td>\n",
       "      <td>0.978967</td>\n",
       "      <td>roc_auc</td>\n",
       "      <td>0.162619</td>\n",
       "      <td>0.166081</td>\n",
       "      <td>8.385677</td>\n",
       "      <td>0.162619</td>\n",
       "      <td>0.166081</td>\n",
       "      <td>8.385677</td>\n",
       "      <td>1</td>\n",
       "      <td>True</td>\n",
       "      <td>1</td>\n",
       "    </tr>\n",
       "    <tr>\n",
       "      <th>3</th>\n",
       "      <td>LightGBM_XT_BAG_L2/T1</td>\n",
       "      <td>0.982090</td>\n",
       "      <td>0.976804</td>\n",
       "      <td>roc_auc</td>\n",
       "      <td>0.414255</td>\n",
       "      <td>0.477694</td>\n",
       "      <td>52.516219</td>\n",
       "      <td>0.076939</td>\n",
       "      <td>0.109579</td>\n",
       "      <td>5.962197</td>\n",
       "      <td>2</td>\n",
       "      <td>True</td>\n",
       "      <td>6</td>\n",
       "    </tr>\n",
       "    <tr>\n",
       "      <th>4</th>\n",
       "      <td>LightGBM_Large_BAG_L2/T1</td>\n",
       "      <td>0.981432</td>\n",
       "      <td>0.972446</td>\n",
       "      <td>roc_auc</td>\n",
       "      <td>0.389282</td>\n",
       "      <td>0.417992</td>\n",
       "      <td>52.760384</td>\n",
       "      <td>0.051967</td>\n",
       "      <td>0.049877</td>\n",
       "      <td>6.206362</td>\n",
       "      <td>2</td>\n",
       "      <td>True</td>\n",
       "      <td>7</td>\n",
       "    </tr>\n",
       "    <tr>\n",
       "      <th>5</th>\n",
       "      <td>LightGBM_Large_BAG_L1/T1</td>\n",
       "      <td>0.980435</td>\n",
       "      <td>0.974319</td>\n",
       "      <td>roc_auc</td>\n",
       "      <td>0.102839</td>\n",
       "      <td>0.119766</td>\n",
       "      <td>8.904263</td>\n",
       "      <td>0.102839</td>\n",
       "      <td>0.119766</td>\n",
       "      <td>8.904263</td>\n",
       "      <td>1</td>\n",
       "      <td>True</td>\n",
       "      <td>2</td>\n",
       "    </tr>\n",
       "    <tr>\n",
       "      <th>6</th>\n",
       "      <td>CatBoost_300it_BAG_L1/T1</td>\n",
       "      <td>0.975662</td>\n",
       "      <td>0.969346</td>\n",
       "      <td>roc_auc</td>\n",
       "      <td>0.047510</td>\n",
       "      <td>0.040883</td>\n",
       "      <td>14.710468</td>\n",
       "      <td>0.047510</td>\n",
       "      <td>0.040883</td>\n",
       "      <td>14.710468</td>\n",
       "      <td>1</td>\n",
       "      <td>True</td>\n",
       "      <td>3</td>\n",
       "    </tr>\n",
       "    <tr>\n",
       "      <th>7</th>\n",
       "      <td>CatBoost_BAG_L1/T1</td>\n",
       "      <td>0.975508</td>\n",
       "      <td>0.969127</td>\n",
       "      <td>roc_auc</td>\n",
       "      <td>0.024347</td>\n",
       "      <td>0.041385</td>\n",
       "      <td>14.553614</td>\n",
       "      <td>0.024347</td>\n",
       "      <td>0.041385</td>\n",
       "      <td>14.553614</td>\n",
       "      <td>1</td>\n",
       "      <td>True</td>\n",
       "      <td>4</td>\n",
       "    </tr>\n",
       "  </tbody>\n",
       "</table>\n",
       "</div>"
      ],
      "text/plain": [
       "                      model  score_test  score_val eval_metric  \\\n",
       "0       WeightedEnsemble_L3    0.982712   0.979020     roc_auc   \n",
       "1       WeightedEnsemble_L2    0.982712   0.979020     roc_auc   \n",
       "2     LightGBM_XT_BAG_L1/T1    0.982632   0.978967     roc_auc   \n",
       "3     LightGBM_XT_BAG_L2/T1    0.982090   0.976804     roc_auc   \n",
       "4  LightGBM_Large_BAG_L2/T1    0.981432   0.972446     roc_auc   \n",
       "5  LightGBM_Large_BAG_L1/T1    0.980435   0.974319     roc_auc   \n",
       "6  CatBoost_300it_BAG_L1/T1    0.975662   0.969346     roc_auc   \n",
       "7        CatBoost_BAG_L1/T1    0.975508   0.969127     roc_auc   \n",
       "\n",
       "   pred_time_test  pred_time_val   fit_time  pred_time_test_marginal  \\\n",
       "0        0.266915       0.286836  17.399515                 0.001457   \n",
       "1        0.267017       0.286977  17.382099                 0.001559   \n",
       "2        0.162619       0.166081   8.385677                 0.162619   \n",
       "3        0.414255       0.477694  52.516219                 0.076939   \n",
       "4        0.389282       0.417992  52.760384                 0.051967   \n",
       "5        0.102839       0.119766   8.904263                 0.102839   \n",
       "6        0.047510       0.040883  14.710468                 0.047510   \n",
       "7        0.024347       0.041385  14.553614                 0.024347   \n",
       "\n",
       "   pred_time_val_marginal  fit_time_marginal  stack_level  can_infer  \\\n",
       "0                0.000989           0.109575            3       True   \n",
       "1                0.001129           0.092159            2       True   \n",
       "2                0.166081           8.385677            1       True   \n",
       "3                0.109579           5.962197            2       True   \n",
       "4                0.049877           6.206362            2       True   \n",
       "5                0.119766           8.904263            1       True   \n",
       "6                0.040883          14.710468            1       True   \n",
       "7                0.041385          14.553614            1       True   \n",
       "\n",
       "   fit_order  \n",
       "0          8  \n",
       "1          5  \n",
       "2          1  \n",
       "3          6  \n",
       "4          7  \n",
       "5          2  \n",
       "6          3  \n",
       "7          4  "
      ]
     },
     "execution_count": 13,
     "metadata": {},
     "output_type": "execute_result"
    }
   ],
   "source": [
    "full_predictor = TabularPredictor(label='target', eval_metric='roc_auc', verbosity=2)\n",
    "\n",
    "hyperparameters = {\n",
    "    'GBM': [\n",
    "        {'extra_trees': True, 'num_leaves': 64, 'learning_rate': 0.05, 'ag_args': {'name_suffix': '_XT'}},\n",
    "        {'extra_trees': False, 'num_leaves': 128, 'learning_rate': 0.03, 'ag_args': {'name_suffix': '_Large'}},\n",
    "    ],\n",
    "    'CAT': [\n",
    "        {'iterations': 300, 'learning_rate': 0.05, 'ag_args': {'name_suffix': '_300it'}},\n",
    "        {},  \n",
    "    ],\n",
    "    'XGB': [\n",
    "        {'nthread': 4, 'num_round': 200, 'learning_rate': 0.05, 'max_depth': 6},\n",
    "        {},  # default\n",
    "    ],\n",
    "    'RF': [\n",
    "        {'n_estimators': 300, 'criterion': 'gini'},\n",
    "    ],\n",
    "    'XT': [\n",
    "        {'n_estimators': 300, 'criterion': 'gini'},\n",
    "    ],\n",
    "    'NN_TORCH': [\n",
    "        {'max_epochs': 30, 'hidden_size': 128, 'num_layers': 2, 'dropout_prob': 0.1, 'ag_args': {'name_suffix': '_nn'}},\n",
    "    ],\n",
    "}\n",
    "\n",
    "full_predictor.fit(\n",
    "    train_data,\n",
    "    presets='best_quality',\n",
    "    time_limit=120,\n",
    "    num_gpus=1,\n",
    "    hyperparameters=hyperparameters,\n",
    "    hyperparameter_tune_kwargs={\n",
    "        'scheduler': 'local',\n",
    "        'searcher': 'random',\n",
    "        'num_trials': 5,       # ← 10 trials por modelo\n",
    "    }\n",
    ")\n",
    "\n",
    "print(\"\\nModel Leaderboard:\")\n",
    "full_predictor.leaderboard(test_data)\n"
   ]
  },
  {
   "cell_type": "code",
   "execution_count": 14,
   "id": "afe4a274-a9ce-4101-b136-1ba9af222bfd",
   "metadata": {},
   "outputs": [
    {
     "name": "stdout",
     "output_type": "stream",
     "text": [
      "ROC-AUC: 0.9827\n",
      "PR-AUC:  0.9586\n",
      "\n",
      "Confusion Matrix:\n",
      "TN: 1966  FP:   80\n",
      "FN:  111  TP:  713\n",
      "\n",
      "               precision    recall  f1-score   support\n",
      "\n",
      "Not Confirmed       0.95      0.96      0.95      2046\n",
      "    Confirmed       0.90      0.87      0.88       824\n",
      "\n",
      "     accuracy                           0.93      2870\n",
      "    macro avg       0.92      0.91      0.92      2870\n",
      " weighted avg       0.93      0.93      0.93      2870\n",
      "\n"
     ]
    }
   ],
   "source": [
    "from sklearn.metrics import confusion_matrix, classification_report, roc_auc_score, average_precision_score\n",
    "import pandas as pd\n",
    "\n",
    "# Usar el nombre correcto del predictor\n",
    "y_true = test_data['target'].values\n",
    "y_pred = full_predictor.predict(test_data)  # ← Cambio aquí\n",
    "y_proba = full_predictor.predict_proba(test_data)  # ← Y aquí\n",
    "\n",
    "# ROC-AUC (complementa PR-AUC)\n",
    "if isinstance(y_proba, pd.DataFrame):\n",
    "    y_scores = y_proba[1].values if 1 in y_proba.columns else y_proba.iloc[:, -1].values\n",
    "else:\n",
    "    y_scores = y_proba[:, 1]\n",
    "\n",
    "print(f\"ROC-AUC: {roc_auc_score(y_true, y_scores):.4f}\")\n",
    "print(f\"PR-AUC:  {average_precision_score(y_true, y_scores):.4f}\")\n",
    "\n",
    "# Matriz de confusión\n",
    "cm = confusion_matrix(y_true, y_pred)\n",
    "print(\"\\nConfusion Matrix:\")\n",
    "print(f\"TN: {cm[0,0]:4d}  FP: {cm[0,1]:4d}\")\n",
    "print(f\"FN: {cm[1,0]:4d}  TP: {cm[1,1]:4d}\")\n",
    "\n",
    "# Reporte detallado\n",
    "print(\"\\n\" + classification_report(y_true, y_pred, \n",
    "      target_names=['Not Confirmed', 'Confirmed']))"
   ]
  },
  {
   "cell_type": "code",
   "execution_count": 15,
   "id": "f19c48db-bfdf-48d6-a41f-251cff891f41",
   "metadata": {},
   "outputs": [
    {
     "name": "stdout",
     "output_type": "stream",
     "text": [
      "\n",
      "Falsos Positivos: 80\n",
      "        kepid  koi_period  koi_depth  pred_proba\n",
      "4216  8098212    3.487541       85.1    0.685562\n",
      "1794  7449554    2.420883      223.3    0.665459\n",
      "1189  9850893    8.480398      259.7    0.508897\n",
      "2120  8803882   89.465468       67.9    0.565087\n",
      "5143  5621333   27.096515      208.4    0.772619\n",
      "\n",
      "Falsos Negativos: 111\n",
      "        kepid  koi_period  koi_depth  pred_proba\n",
      "5715  6803855   71.452317      216.9    0.389670\n",
      "5873  4947556   13.026796      356.6    0.189490\n",
      "778   7532973    2.144632    19837.0    0.001088\n",
      "2858  5978170    5.688791      241.5    0.460132\n",
      "4927  6705026    9.508487       97.9    0.112578\n"
     ]
    }
   ],
   "source": [
    "# Identificar casos donde el modelo falla\n",
    "test_with_preds = test.copy()\n",
    "test_with_preds['pred'] = y_pred\n",
    "test_with_preds['pred_proba'] = y_scores\n",
    "test_with_preds['error'] = test_with_preds['target'] != test_with_preds['pred']\n",
    "\n",
    "# Falsos Positivos\n",
    "fp = test_with_preds[(test_with_preds['target']==0) & (test_with_preds['pred']==1)]\n",
    "print(f\"\\nFalsos Positivos: {len(fp)}\")\n",
    "if len(fp) > 0:\n",
    "    print(fp[['kepid', 'koi_period', 'koi_depth', 'pred_proba']].head())\n",
    "\n",
    "# Falsos Negativos\n",
    "fn = test_with_preds[(test_with_preds['target']==1) & (test_with_preds['pred']==0)]\n",
    "print(f\"\\nFalsos Negativos: {len(fn)}\")\n",
    "if len(fn) > 0:\n",
    "    print(fn[['kepid', 'koi_period', 'koi_depth', 'pred_proba']].head())"
   ]
  },
  {
   "cell_type": "code",
   "execution_count": 16,
   "id": "94c861a0-94a5-4b1b-aa24-adaa2c502e94",
   "metadata": {},
   "outputs": [
    {
     "name": "stdout",
     "output_type": "stream",
     "text": [
      "\n",
      "Top 15 Features:\n",
      "                  importance    stddev   p_value  n  p99_high   p99_low\n",
      "koi_max_sngle_ev    0.011362  0.001082  0.000010  5  0.013589  0.009135\n",
      "koi_count           0.007812  0.000661  0.000006  5  0.009172  0.006451\n",
      "duration_anomaly    0.006622  0.001032  0.000069  5  0.008747  0.004497\n",
      "koi_fittype         0.005136  0.000779  0.000062  5  0.006741  0.003531\n",
      "koi_fwm_srao        0.003752  0.000500  0.000037  5  0.004781  0.002723\n",
      "koi_dicco_mra       0.003562  0.000626  0.000110  5  0.004851  0.002272\n",
      "koi_dicco_mdec      0.003509  0.000834  0.000355  5  0.005226  0.001792\n",
      "koi_prad            0.003400  0.001148  0.001350  5  0.005764  0.001035\n",
      "log_prad            0.002626  0.000991  0.002030  5  0.004667  0.000586\n",
      "koi_dikco_mra       0.002574  0.000500  0.000163  5  0.003604  0.001544\n",
      "koi_fwm_sdeco       0.002105  0.000387  0.000131  5  0.002901  0.001309\n",
      "koi_num_transits    0.001348  0.000245  0.000126  5  0.001854  0.000843\n",
      "koi_ror             0.001295  0.000574  0.003642  5  0.002478  0.000112\n",
      "koi_dikco_mdec      0.001245  0.000411  0.001241  5  0.002092  0.000399\n",
      "koi_smet            0.001180  0.000324  0.000619  5  0.001847  0.000513\n"
     ]
    }
   ],
   "source": [
    "# Ver qué features usa el modelo\n",
    "fi = full_predictor.feature_importance(test_data, silent=True)  # ← Cambio aquí\n",
    "print(\"\\nTop 15 Features:\")\n",
    "print(fi.head(15))"
   ]
  },
  {
   "cell_type": "code",
   "execution_count": 17,
   "id": "93360a08-d46e-4ae9-b217-90235a862f1b",
   "metadata": {},
   "outputs": [
    {
     "name": "stdout",
     "output_type": "stream",
     "text": [
      "Correlación directa con target:\n",
      "  koi_depth           : -0.1803\n",
      "  koi_duration        : -0.1349\n",
      "  koi_period          : -0.0227\n",
      "  koi_prad            : -0.0212\n"
     ]
    }
   ],
   "source": [
    "# Verificar correlaciones básicas\n",
    "import pandas as pd\n",
    "\n",
    "correlations = []\n",
    "for col in ['koi_period', 'koi_depth', 'koi_duration', 'koi_prad', 'koi_model_snr']:\n",
    "    if col in df.columns:\n",
    "        corr = df[[col, 'target']].corr().iloc[0, 1]\n",
    "        correlations.append((col, corr))\n",
    "\n",
    "print(\"Correlación directa con target:\")\n",
    "for feat, corr in sorted(correlations, key=lambda x: abs(x[1]), reverse=True):\n",
    "    print(f\"  {feat:20s}: {corr:+.4f}\")"
   ]
  }
 ],
 "metadata": {
  "kernelspec": {
   "display_name": "Python (Mi Venv de Jupyter)",
   "language": "python",
   "name": "jupyter_nuevo"
  },
  "language_info": {
   "codemirror_mode": {
    "name": "ipython",
    "version": 3
   },
   "file_extension": ".py",
   "mimetype": "text/x-python",
   "name": "python",
   "nbconvert_exporter": "python",
   "pygments_lexer": "ipython3",
   "version": "3.11.2"
  }
 },
 "nbformat": 4,
 "nbformat_minor": 5
}
